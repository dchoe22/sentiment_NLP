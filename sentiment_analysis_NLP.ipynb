{
 "cells": [
  {
   "cell_type": "markdown",
   "metadata": {},
   "source": [
    "### Question\n",
    "Can a prediction be made using the written sentiment in the data with a neural models and NLP techniques?\n",
    "\n",
    "### Objectives and Goals\n",
    "The goal of this project is to train a neural network model that can accurately classify text reviews as positive or negative. The object is to automatically analyze customer reviews to provide the organization insights about their products.\n",
    "\n",
    "### Prescribed Network\n",
    "The type of neural network that will be used is a Sequential model with an Embedding layer, a GlobalAveragePooling1D layer. "
   ]
  },
  {
   "cell_type": "code",
   "execution_count": 1,
   "metadata": {
    "id": "F4pFsNoxc9vI",
    "tags": []
   },
   "outputs": [],
   "source": [
    "#import libaries and packages\n",
    "import pandas as pd\n",
    "import numpy as np\n",
    "import matplotlib.pyplot as plt\n",
    "from sklearn.model_selection import train_test_split\n",
    "from tensorflow.keras.preprocessing.text import Tokenizer\n",
    "from tensorflow.keras.preprocessing.sequence import pad_sequences\n",
    "from tensorflow.keras.models import Sequential\n",
    "from tensorflow.keras.layers import Embedding, GlobalAveragePooling1D, Dense\n",
    "from tensorflow.keras.callbacks import EarlyStopping"
   ]
  },
  {
   "cell_type": "code",
   "execution_count": 2,
   "metadata": {
    "id": "6PGGwySkeapd",
    "tags": []
   },
   "outputs": [],
   "source": [
    "#import the three .txt files used for the model\n",
    "amazon = pd.read_csv('/Users/dchoe/Desktop/D213/Task_2/amazon_cells_labelled.txt', sep='\\t', header=None)\n",
    "imdb = pd.read_csv('/Users/dchoe/Desktop/D213/Task_2/imdb_labelled.txt', sep='\\t', header=None)\n",
    "yelp = pd.read_csv('/Users/dchoe/Desktop/D213/Task_2/yelp_labelled.txt', sep='\\t', header=None)"
   ]
  },
  {
   "cell_type": "markdown",
   "metadata": {},
   "source": [
    "\n",
    "### Data Exploration"
   ]
  },
  {
   "cell_type": "code",
   "execution_count": 3,
   "metadata": {
    "colab": {
     "base_uri": "https://localhost:8080/"
    },
    "id": "hUdutpMhetJz",
    "outputId": "c64e0f90-f0a6-41da-c821-13ec8c80dfba",
    "tags": []
   },
   "outputs": [
    {
     "name": "stdout",
     "output_type": "stream",
     "text": [
      "<class 'pandas.core.frame.DataFrame'>\n",
      "RangeIndex: 1000 entries, 0 to 999\n",
      "Data columns (total 2 columns):\n",
      " #   Column  Non-Null Count  Dtype \n",
      "---  ------  --------------  ----- \n",
      " 0   0       1000 non-null   object\n",
      " 1   1       1000 non-null   int64 \n",
      "dtypes: int64(1), object(1)\n",
      "memory usage: 15.8+ KB\n",
      "<class 'pandas.core.frame.DataFrame'>\n",
      "RangeIndex: 1000 entries, 0 to 999\n",
      "Data columns (total 2 columns):\n",
      " #   Column  Non-Null Count  Dtype \n",
      "---  ------  --------------  ----- \n",
      " 0   0       1000 non-null   object\n",
      " 1   1       1000 non-null   int64 \n",
      "dtypes: int64(1), object(1)\n",
      "memory usage: 15.8+ KB\n",
      "<class 'pandas.core.frame.DataFrame'>\n",
      "RangeIndex: 1000 entries, 0 to 999\n",
      "Data columns (total 2 columns):\n",
      " #   Column  Non-Null Count  Dtype \n",
      "---  ------  --------------  ----- \n",
      " 0   0       1000 non-null   object\n",
      " 1   1       1000 non-null   int64 \n",
      "dtypes: int64(1), object(1)\n",
      "memory usage: 15.8+ KB\n"
     ]
    },
    {
     "data": {
      "text/plain": [
       "(None, None, None)"
      ]
     },
     "execution_count": 3,
     "metadata": {},
     "output_type": "execute_result"
    }
   ],
   "source": [
    "#explore the information in the datasets\n",
    "amazon.info(), imdb.info(), yelp.info()"
   ]
  },
  {
   "cell_type": "markdown",
   "metadata": {},
   "source": [
    "The three datasets have two series that are unnamed and each series has a 1000 observations. "
   ]
  },
  {
   "cell_type": "code",
   "execution_count": 4,
   "metadata": {
    "colab": {
     "base_uri": "https://localhost:8080/"
    },
    "id": "oTcGf79bentE",
    "outputId": "494b9dfb-7597-4a3f-d9e6-79bdfdc0e504",
    "tags": []
   },
   "outputs": [
    {
     "data": {
      "text/plain": [
       "(                                                   0  1\n",
       " 0  So there is no way for me to plug it in here i...  0\n",
       " 1                        Good case, Excellent value.  1\n",
       " 2                             Great for the jawbone.  1\n",
       " 3  Tied to charger for conversations lasting more...  0\n",
       " 4                                  The mic is great.  1,\n",
       "                                                    0  1\n",
       " 0  A very, very, very slow-moving, aimless movie ...  0\n",
       " 1  Not sure who was more lost - the flat characte...  0\n",
       " 2  Attempting artiness with black & white and cle...  0\n",
       " 3       Very little music or anything to speak of.    0\n",
       " 4  The best scene in the movie was when Gerardo i...  1,\n",
       "                                                    0  1\n",
       " 0                           Wow... Loved this place.  1\n",
       " 1                                 Crust is not good.  0\n",
       " 2          Not tasty and the texture was just nasty.  0\n",
       " 3  Stopped by during the late May bank holiday of...  1\n",
       " 4  The selection on the menu was great and so wer...  1)"
      ]
     },
     "execution_count": 4,
     "metadata": {},
     "output_type": "execute_result"
    }
   ],
   "source": [
    "#review the first 5 rows of each dataset\n",
    "amazon.head(), imdb.head(), yelp.head()"
   ]
  },
  {
   "cell_type": "code",
   "execution_count": 5,
   "metadata": {
    "id": "wRlu9CHMe-Ac",
    "tags": []
   },
   "outputs": [],
   "source": [
    "#Name the columns of each dataset\n",
    "amazon.columns = ['Review', 'Sentiment']\n",
    "imdb.columns = ['Review', 'Sentiment']\n",
    "yelp.columns = ['Review', 'Sentiment']"
   ]
  },
  {
   "cell_type": "code",
   "execution_count": 6,
   "metadata": {
    "colab": {
     "base_uri": "https://localhost:8080/"
    },
    "id": "tYrpqW6hfQnF",
    "outputId": "64db824e-9b06-4281-dd6f-bfc10a96e13b",
    "tags": []
   },
   "outputs": [
    {
     "name": "stdout",
     "output_type": "stream",
     "text": [
      "<class 'pandas.core.frame.DataFrame'>\n",
      "RangeIndex: 1000 entries, 0 to 999\n",
      "Data columns (total 2 columns):\n",
      " #   Column     Non-Null Count  Dtype \n",
      "---  ------     --------------  ----- \n",
      " 0   Review     1000 non-null   object\n",
      " 1   Sentiment  1000 non-null   int64 \n",
      "dtypes: int64(1), object(1)\n",
      "memory usage: 15.8+ KB\n",
      "<class 'pandas.core.frame.DataFrame'>\n",
      "RangeIndex: 1000 entries, 0 to 999\n",
      "Data columns (total 2 columns):\n",
      " #   Column     Non-Null Count  Dtype \n",
      "---  ------     --------------  ----- \n",
      " 0   Review     1000 non-null   object\n",
      " 1   Sentiment  1000 non-null   int64 \n",
      "dtypes: int64(1), object(1)\n",
      "memory usage: 15.8+ KB\n",
      "<class 'pandas.core.frame.DataFrame'>\n",
      "RangeIndex: 1000 entries, 0 to 999\n",
      "Data columns (total 2 columns):\n",
      " #   Column     Non-Null Count  Dtype \n",
      "---  ------     --------------  ----- \n",
      " 0   Review     1000 non-null   object\n",
      " 1   Sentiment  1000 non-null   int64 \n",
      "dtypes: int64(1), object(1)\n",
      "memory usage: 15.8+ KB\n"
     ]
    },
    {
     "data": {
      "text/plain": [
       "(None, None, None)"
      ]
     },
     "execution_count": 6,
     "metadata": {},
     "output_type": "execute_result"
    }
   ],
   "source": [
    "#review to see if the columns were properly named\n",
    "amazon.info(), imdb.info(), yelp.info()"
   ]
  },
  {
   "cell_type": "code",
   "execution_count": 7,
   "metadata": {
    "id": "F4I3cDXWfhEj",
    "tags": []
   },
   "outputs": [],
   "source": [
    "# Concatenate the datasets\n",
    "df = pd.concat([amazon, imdb, yelp])"
   ]
  },
  {
   "cell_type": "code",
   "execution_count": 8,
   "metadata": {
    "colab": {
     "base_uri": "https://localhost:8080/",
     "height": 204
    },
    "id": "vGlozw6GfqKM",
    "outputId": "01af0e43-d495-47c0-9989-007db0663746",
    "tags": []
   },
   "outputs": [
    {
     "data": {
      "text/html": [
       "<div>\n",
       "<style scoped>\n",
       "    .dataframe tbody tr th:only-of-type {\n",
       "        vertical-align: middle;\n",
       "    }\n",
       "\n",
       "    .dataframe tbody tr th {\n",
       "        vertical-align: top;\n",
       "    }\n",
       "\n",
       "    .dataframe thead th {\n",
       "        text-align: right;\n",
       "    }\n",
       "</style>\n",
       "<table border=\"1\" class=\"dataframe\">\n",
       "  <thead>\n",
       "    <tr style=\"text-align: right;\">\n",
       "      <th></th>\n",
       "      <th>Review</th>\n",
       "      <th>Sentiment</th>\n",
       "    </tr>\n",
       "  </thead>\n",
       "  <tbody>\n",
       "    <tr>\n",
       "      <th>0</th>\n",
       "      <td>So there is no way for me to plug it in here i...</td>\n",
       "      <td>0</td>\n",
       "    </tr>\n",
       "    <tr>\n",
       "      <th>1</th>\n",
       "      <td>Good case, Excellent value.</td>\n",
       "      <td>1</td>\n",
       "    </tr>\n",
       "    <tr>\n",
       "      <th>2</th>\n",
       "      <td>Great for the jawbone.</td>\n",
       "      <td>1</td>\n",
       "    </tr>\n",
       "    <tr>\n",
       "      <th>3</th>\n",
       "      <td>Tied to charger for conversations lasting more...</td>\n",
       "      <td>0</td>\n",
       "    </tr>\n",
       "    <tr>\n",
       "      <th>4</th>\n",
       "      <td>The mic is great.</td>\n",
       "      <td>1</td>\n",
       "    </tr>\n",
       "  </tbody>\n",
       "</table>\n",
       "</div>"
      ],
      "text/plain": [
       "                                              Review  Sentiment\n",
       "0  So there is no way for me to plug it in here i...          0\n",
       "1                        Good case, Excellent value.          1\n",
       "2                             Great for the jawbone.          1\n",
       "3  Tied to charger for conversations lasting more...          0\n",
       "4                                  The mic is great.          1"
      ]
     },
     "execution_count": 8,
     "metadata": {},
     "output_type": "execute_result"
    }
   ],
   "source": [
    "df.head()"
   ]
  },
  {
   "cell_type": "markdown",
   "metadata": {},
   "source": [
    "* Unusual Characters: The notebook includes a function to identify unusual characters in the text, such as emojis, non-English characters, etc. The function was applied to the 'Review' column of the dataset."
   ]
  },
  {
   "cell_type": "code",
   "execution_count": 9,
   "metadata": {
    "colab": {
     "base_uri": "https://localhost:8080/"
    },
    "id": "eifa3IPafvN6",
    "outputId": "ae9677ee-44d0-466a-8890-0d2933932c77"
   },
   "outputs": [
    {
     "name": "stdout",
     "output_type": "stream",
     "text": [
      "Found 0 unusual characters.\n"
     ]
    }
   ],
   "source": [
    "#function to detect for unusual text character\n",
    "import unicodedata\n",
    "\n",
    "def find_unusual_characters(text):\n",
    "    unusual_chars = set()\n",
    "    for char in text:\n",
    "        char_name = unicodedata.name(char, '')\n",
    "        if 'CJK UNIFIED' in char_name or 'EMOJI' in char_name or 'ARABIC' in char_name:\n",
    "            unusual_chars.add(char)\n",
    "    return unusual_chars\n",
    "\n",
    "unusual_characters = set()\n",
    "for review in df['Review']:\n",
    "    unusual_characters.update(find_unusual_characters(review))\n",
    "\n",
    "print(f'Found {len(unusual_characters)} unusual characters.')"
   ]
  },
  {
   "cell_type": "markdown",
   "metadata": {},
   "source": [
    "* Vocabulary Size: The vocabulary size was calculated using the Tokenizer's word_index attribute."
   ]
  },
  {
   "cell_type": "code",
   "execution_count": 10,
   "metadata": {
    "colab": {
     "base_uri": "https://localhost:8080/"
    },
    "id": "bpJUNT3Gf8Ey",
    "outputId": "e4eecf73-0c91-4942-f15b-fed9791753fb"
   },
   "outputs": [
    {
     "name": "stdout",
     "output_type": "stream",
     "text": [
      "Vocabulary size: 5272\n"
     ]
    }
   ],
   "source": [
    "#calculate vocabulary size\n",
    "tokenizer = Tokenizer()\n",
    "tokenizer.fit_on_texts(df['Review'])\n",
    "vocab_size = len(tokenizer.word_index) + 1  # Adding 1 because of reserved 0 index\n",
    "\n",
    "print(f'Vocabulary size: {vocab_size}')"
   ]
  },
  {
   "cell_type": "code",
   "execution_count": 11,
   "metadata": {},
   "outputs": [
    {
     "data": {
      "text/plain": [
       "9"
      ]
     },
     "execution_count": 11,
     "metadata": {},
     "output_type": "execute_result"
    }
   ],
   "source": [
    "embedding_length = int(round(np.sqrt(np.sqrt(vocab_size)), 0))\n",
    "embedding_length"
   ]
  },
  {
   "cell_type": "markdown",
   "metadata": {},
   "source": [
    "* Word Embedding Length: The length of the word embeddings was calcuated as 9.\n",
    "* Maximum Sequence Length: The maximum sequence length was calculated as the 95th percentile of the lengths of the reviews."
   ]
  },
  {
   "cell_type": "code",
   "execution_count": 12,
   "metadata": {
    "colab": {
     "base_uri": "https://localhost:8080/"
    },
    "id": "o9wQvMy3gAJ2",
    "outputId": "49d20c2f-8975-4be2-fc8b-7e77865a53b3"
   },
   "outputs": [
    {
     "name": "stdout",
     "output_type": "stream",
     "text": [
      "Maximum sequence length: 26\n"
     ]
    }
   ],
   "source": [
    "#calculate maximum sequence length\n",
    "review_lengths = df['Review'].apply(lambda x: len(x.split()))\n",
    "max_length = int(np.percentile(review_lengths, 95))  # 95th percentile\n",
    "\n",
    "print(f'Maximum sequence length: {max_length}')"
   ]
  },
  {
   "cell_type": "markdown",
   "metadata": {},
   "source": [
    "### Tokenization\n",
    "The tokenization process was done using the Tokenizer from the TensorFlow Keras library. The goal of tokenization is to convert the text into sequences of integers, which can be used for the neural network model."
   ]
  },
  {
   "cell_type": "code",
   "execution_count": 13,
   "metadata": {
    "id": "JUWchkzYgC9w"
   },
   "outputs": [],
   "source": [
    "# Initialize and fit the tokenizer\n",
    "tokenizer = Tokenizer(num_words=vocab_size, oov_token='<OOV>')\n",
    "tokenizer.fit_on_texts(df['Review'])\n",
    "\n",
    "# Convert text to sequences of integers\n",
    "sequences = tokenizer.texts_to_sequences(df['Review'])"
   ]
  },
  {
   "cell_type": "markdown",
   "metadata": {},
   "source": [
    "### Padding Process\n",
    "The padding process was done using the pad_sequences function from the TensorFlow Keras library. The padding occurs after the text sequence. A single padded sequence is printed below."
   ]
  },
  {
   "cell_type": "code",
   "execution_count": 14,
   "metadata": {
    "id": "wMjQF6G_gk7x"
   },
   "outputs": [],
   "source": [
    "# Pad sequences\n",
    "padded_sequences = pad_sequences(sequences, maxlen=max_length, padding='post', truncating='post')\n"
   ]
  },
  {
   "cell_type": "code",
   "execution_count": 15,
   "metadata": {
    "colab": {
     "base_uri": "https://localhost:8080/"
    },
    "id": "fS1NxBUxgnnK",
    "outputId": "d27402b1-efef-4faa-b106-d6ac78cd26db"
   },
   "outputs": [
    {
     "name": "stdout",
     "output_type": "stream",
     "text": [
      "[  28   49    6   57  117   13   71    8  371    7   12   65   12    2\n",
      "  187  579    4   76   61    5 2268    0    0    0    0    0]\n"
     ]
    }
   ],
   "source": [
    "#print single padded sequence\n",
    "print(padded_sequences[0])"
   ]
  },
  {
   "cell_type": "markdown",
   "metadata": {},
   "source": [
    "### Categories of Sentiment\n",
    "* There are two categories of sentiment: positive and negative. \n",
    "* The activation function for the final dense layer of the network is 'sigmoid'.\n",
    "\n",
    "### Steps to Prepare the Data\n",
    "Below are the steps used to prepare the data\n",
    "- Imported datasets and performed EDA.\n",
    "- Labeled the series in each dataset. \n",
    "- Combined the datasets using concat function.\n",
    "- Detected for unusual text characters.\n",
    "- Identified vocabulary size of the dataset.\n",
    "- Calculated the maximum sequence length.\n",
    "- Performed the tokenization and padding process.\n",
    "- The data was split into training, validation, and test sets using a 80/10/10 split."
   ]
  },
  {
   "cell_type": "code",
   "execution_count": 16,
   "metadata": {
    "id": "_cLUTDoigqWc"
   },
   "outputs": [],
   "source": [
    "labels = np.array(df['Sentiment'])"
   ]
  },
  {
   "cell_type": "code",
   "execution_count": 17,
   "metadata": {
    "id": "vkl6h0OvhIWp"
   },
   "outputs": [],
   "source": [
    "# First, split the data into a training set and a temporary set using an 80/30 split\n",
    "X_temp, X_test, y_temp, y_test = train_test_split(padded_sequences, labels, test_size=0.2, random_state=42)\n",
    "\n",
    "# Then, split the temporary set into validation and test sets using a 50/50 split\n",
    "X_train, X_val, y_train, y_val = train_test_split(X_temp, y_temp, test_size=0.5, random_state=42)"
   ]
  },
  {
   "cell_type": "markdown",
   "metadata": {},
   "source": [
    "### Prepared Dataset"
   ]
  },
  {
   "cell_type": "code",
   "execution_count": 18,
   "metadata": {},
   "outputs": [],
   "source": [
    "#df.to_csv('/Users/dchoe/Desktop/D213/Task_2/df_cleaned.csv')"
   ]
  },
  {
   "cell_type": "markdown",
   "metadata": {},
   "source": [
    "### Network Architecture\n",
    "* The model has four layers: an Embedding layer, a GlobalAveragePooling1D layer, and two Dense layers. \n",
    "* The total number of parameters can be seen in the model summary below.\n",
    "### Hyperparameters\n",
    "* activation functions - The activation functions used are 'relu' and 'sigmoid'. The final activation function is a 'sigmoid' function because a sigmoid function is used to predict the probability of a binary variable.\n",
    "* number of nodes per layer - the number of nodes per layer are 26 which was determined by the maximum sequence length, 50 was determined by trial and error, and 1 is the final layer of sigmoid because the use of binary variables. \n",
    "* loss function - the loss function is `binary_crossentropy`. This was used because it is a loss function used in binary classification problems.\n",
    "* optimizer - The optimizer is 'adam'. This was used because it is straightforward and computationally efficient.\n",
    "* stopping criteria - Validation Loss was used a the stopping criteria to prevent overfitting. Accuracy was  consistently above 90% after the 7th epoch in the training and was not a concern. \n",
    "* evaluation metric - The evaluation metric is 'accuracy' because the needs to be accurate to be useful. "
   ]
  },
  {
   "cell_type": "code",
   "execution_count": 19,
   "metadata": {
    "colab": {
     "base_uri": "https://localhost:8080/"
    },
    "id": "16XGFNXakmkU",
    "outputId": "97dcb450-5aae-42b8-94c3-9c72b459f9f8"
   },
   "outputs": [
    {
     "name": "stdout",
     "output_type": "stream",
     "text": [
      "Model: \"sequential\"\n",
      "_________________________________________________________________\n",
      " Layer (type)                Output Shape              Param #   \n",
      "=================================================================\n",
      " embedding (Embedding)       (None, 26, 9)             47448     \n",
      "                                                                 \n",
      " global_average_pooling1d (G  (None, 9)                0         \n",
      " lobalAveragePooling1D)                                          \n",
      "                                                                 \n",
      " dense (Dense)               (None, 50)                500       \n",
      "                                                                 \n",
      " dense_1 (Dense)             (None, 1)                 51        \n",
      "                                                                 \n",
      "=================================================================\n",
      "Total params: 47,999\n",
      "Trainable params: 47,999\n",
      "Non-trainable params: 0\n",
      "_________________________________________________________________\n"
     ]
    }
   ],
   "source": [
    "# Define the model\n",
    "model = Sequential()\n",
    "model.add(Embedding(vocab_size, embedding_length, input_length=max_length))  \n",
    "model.add(GlobalAveragePooling1D())  \n",
    "model.add(Dense(50, activation='relu'))  \n",
    "model.add(Dense(1, activation='sigmoid'))\n",
    "\n",
    "# Compile the model\n",
    "model.compile(loss='binary_crossentropy', optimizer='adam', metrics=['accuracy'])\n",
    "\n",
    "# Print the model summary\n",
    "model.summary()"
   ]
  },
  {
   "cell_type": "markdown",
   "metadata": {},
   "source": [
    "### Stopping Criteria\n",
    "The use of stopping criteria prevents unnecessary computation after the model has stopped improving and will prevent overfitting. \n",
    "\n",
    "### Fit\n",
    "The fitness of the model and any measures taken to address overfitting can be assessed by observing the plot of the training and validation accuracy and loss. After running the basic model and several trial and error proved that most models were overfitted. The model could be improved by using additional data. "
   ]
  },
  {
   "cell_type": "code",
   "execution_count": 20,
   "metadata": {
    "colab": {
     "base_uri": "https://localhost:8080/"
    },
    "id": "rXwejeT1sprV",
    "outputId": "a45dbddb-0da5-493d-814a-ebf69d4c43bd"
   },
   "outputs": [
    {
     "name": "stdout",
     "output_type": "stream",
     "text": [
      "Epoch 1/50\n"
     ]
    },
    {
     "name": "stderr",
     "output_type": "stream",
     "text": [
      "2023-07-16 23:29:03.255404: W tensorflow/tsl/platform/profile_utils/cpu_utils.cc:128] Failed to get CPU frequency: 0 Hz\n"
     ]
    },
    {
     "name": "stdout",
     "output_type": "stream",
     "text": [
      "38/38 [==============================] - 0s 3ms/step - loss: 0.6929 - accuracy: 0.5050 - val_loss: 0.6923 - val_accuracy: 0.5158\n",
      "Epoch 2/50\n",
      "38/38 [==============================] - 0s 1ms/step - loss: 0.6900 - accuracy: 0.6508 - val_loss: 0.6896 - val_accuracy: 0.7125\n",
      "Epoch 3/50\n",
      "38/38 [==============================] - 0s 1ms/step - loss: 0.6817 - accuracy: 0.8075 - val_loss: 0.6827 - val_accuracy: 0.7250\n",
      "Epoch 4/50\n",
      "38/38 [==============================] - 0s 1ms/step - loss: 0.6610 - accuracy: 0.8333 - val_loss: 0.6662 - val_accuracy: 0.7267\n",
      "Epoch 5/50\n",
      "38/38 [==============================] - 0s 1ms/step - loss: 0.6182 - accuracy: 0.8500 - val_loss: 0.6381 - val_accuracy: 0.6942\n",
      "Epoch 6/50\n",
      "38/38 [==============================] - 0s 1ms/step - loss: 0.5488 - accuracy: 0.8900 - val_loss: 0.5987 - val_accuracy: 0.7642\n",
      "Epoch 7/50\n",
      "38/38 [==============================] - 0s 1ms/step - loss: 0.4647 - accuracy: 0.9117 - val_loss: 0.5583 - val_accuracy: 0.7717\n",
      "Epoch 8/50\n",
      "38/38 [==============================] - 0s 1ms/step - loss: 0.3812 - accuracy: 0.9342 - val_loss: 0.5241 - val_accuracy: 0.7783\n",
      "Epoch 9/50\n",
      "38/38 [==============================] - 0s 1ms/step - loss: 0.3113 - accuracy: 0.9450 - val_loss: 0.4988 - val_accuracy: 0.7775\n",
      "Epoch 10/50\n",
      "38/38 [==============================] - 0s 1ms/step - loss: 0.2529 - accuracy: 0.9617 - val_loss: 0.4821 - val_accuracy: 0.7867\n",
      "Epoch 11/50\n",
      "38/38 [==============================] - 0s 1ms/step - loss: 0.2084 - accuracy: 0.9650 - val_loss: 0.4758 - val_accuracy: 0.7758\n",
      "Epoch 12/50\n",
      "38/38 [==============================] - 0s 1ms/step - loss: 0.1742 - accuracy: 0.9700 - val_loss: 0.4692 - val_accuracy: 0.7900\n",
      "Epoch 13/50\n",
      "38/38 [==============================] - 0s 1ms/step - loss: 0.1466 - accuracy: 0.9767 - val_loss: 0.4708 - val_accuracy: 0.7933\n",
      "Epoch 14/50\n",
      "38/38 [==============================] - 0s 1ms/step - loss: 0.1241 - accuracy: 0.9833 - val_loss: 0.4736 - val_accuracy: 0.7933\n",
      "Epoch 15/50\n",
      "38/38 [==============================] - 0s 1ms/step - loss: 0.1083 - accuracy: 0.9800 - val_loss: 0.4783 - val_accuracy: 0.7933\n",
      "Epoch 16/50\n",
      "38/38 [==============================] - 0s 1ms/step - loss: 0.0916 - accuracy: 0.9883 - val_loss: 0.4847 - val_accuracy: 0.7933\n",
      "Epoch 17/50\n",
      "38/38 [==============================] - 0s 1ms/step - loss: 0.0789 - accuracy: 0.9892 - val_loss: 0.4966 - val_accuracy: 0.7933\n"
     ]
    }
   ],
   "source": [
    "# Define early stopping criteria\n",
    "earlystop = EarlyStopping(monitor='val_loss', min_delta=0, patience=5, verbose=0, mode='auto')\n",
    "\n",
    "# Train the model\n",
    "history = model.fit(X_train, y_train, epochs=50, validation_data=(X_val, y_val), callbacks=[earlystop])"
   ]
  },
  {
   "cell_type": "markdown",
   "metadata": {},
   "source": [
    "### Predictive Accuracy\n",
    "- The predictive accuracy is 82.16%."
   ]
  },
  {
   "cell_type": "code",
   "execution_count": 21,
   "metadata": {
    "colab": {
     "base_uri": "https://localhost:8080/"
    },
    "id": "1vq0SMoJstdl",
    "outputId": "51abc392-ae53-4b5d-e0ac-389d1b1f7e0c"
   },
   "outputs": [
    {
     "name": "stdout",
     "output_type": "stream",
     "text": [
      "Test set loss: 0.4481711685657501\n",
      "Test set accuracy: 0.8216666579246521\n"
     ]
    }
   ],
   "source": [
    "# Evaluate the model on the test set\n",
    "loss, accuracy = model.evaluate(X_test, y_test, verbose=0)\n",
    "print(f'Test set loss: {loss}')\n",
    "print(f'Test set accuracy: {accuracy}')"
   ]
  },
  {
   "cell_type": "code",
   "execution_count": 22,
   "metadata": {
    "colab": {
     "base_uri": "https://localhost:8080/",
     "height": 301
    },
    "id": "xqIF3agetG-M",
    "outputId": "69bb69d1-763d-4933-ed3c-ba0c095b9b84"
   },
   "outputs": [
    {
     "data": {
      "image/png": "[encoded data removed]",
      "text/plain": [
       "<Figure size 1200x400 with 2 Axes>"
      ]
     },
     "metadata": {},
     "output_type": "display_data"
    }
   ],
   "source": [
    "# Plot training & validation accuracy values\n",
    "plt.figure(figsize=(12, 4))\n",
    "plt.subplot(1, 2, 1)\n",
    "plt.plot(history.history['accuracy'])\n",
    "plt.plot(history.history['val_accuracy'])\n",
    "plt.title('Model accuracy')\n",
    "plt.ylabel('Accuracy')\n",
    "plt.xlabel('Epoch')\n",
    "plt.legend(['Train', 'Validation'], loc='upper left')\n",
    "\n",
    "# Plot training & validation loss values\n",
    "plt.subplot(1, 2, 2)\n",
    "plt.plot(history.history['loss'])\n",
    "plt.plot(history.history['val_loss'])\n",
    "plt.title('Model loss')\n",
    "plt.ylabel('Loss')\n",
    "plt.xlabel('Epoch')\n",
    "plt.legend(['Train', 'Validation'], loc='upper left')\n",
    "\n",
    "plt.tight_layout()\n",
    "plt.show()"
   ]
  },
  {
   "cell_type": "code",
   "execution_count": 23,
   "metadata": {
    "id": "7sk0mauStSBJ"
   },
   "outputs": [],
   "source": [
    "#save neural network\n",
    "model.save('model.h5')"
   ]
  },
  {
   "cell_type": "markdown",
   "metadata": {},
   "source": [
    "### Functionality\n",
    "\n",
    "The functionality of this neural network is centered around sentiment analysis and predicts whether a  review text is positive or negative. It accomplishes this through learning patterns in the text dataset during training, then applying these patterns to make predictions. \n",
    "\n",
    "The architecture of a network is critical in how a model learns and makes predictions. This network's architecture comprises an Embedding layer, a `GlobalAveragePooling1D` layer, and two Dense layers `'relu'` and `'sigmoid'`. This architecture architecture is relatively simple but effective for binary text classification tasks.\n",
    "\n",
    "### Recommendation\n",
    "\n",
    "The model achieved 82.16% accuracy on the test set, indicating it could potentially be deployed for automatic sentiment classification. However continued updating of the dataset is recommended to preserve the accuracy and integrity of the model. "
   ]
  }
 ],
 "metadata": {
  "colab": {
   "provenance": []
  },
  "kernelspec": {
   "display_name": "Python 3 (ipykernel)",
   "language": "python",
   "name": "python3"
  },
  "language_info": {
   "codemirror_mode": {
    "name": "ipython",
    "version": 3
   },
   "file_extension": ".py",
   "mimetype": "text/x-python",
   "name": "python",
   "nbconvert_exporter": "python",
   "pygments_lexer": "ipython3",
   "version": "3.11.3"
  }
 },
 "nbformat": 4,
 "nbformat_minor": 4
}
